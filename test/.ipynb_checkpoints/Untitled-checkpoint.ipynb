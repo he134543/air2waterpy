{
 "cells": [
  {
   "cell_type": "code",
   "execution_count": 1,
   "id": "389e263b-3174-4f69-9e71-946bccd5e8a4",
   "metadata": {
    "tags": []
   },
   "outputs": [],
   "source": [
    "import numpy as np\n",
    "import pandas as pd\n",
    "import os\n",
    "import matplotlib.pyplot as plt\n",
    "os.chdir(\"../../air2waterpy/\")"
   ]
  },
  {
   "cell_type": "code",
   "execution_count": 2,
   "id": "8c86aad3-0ad6-4b1d-bb08-190a8b5bec39",
   "metadata": {
    "tags": []
   },
   "outputs": [],
   "source": [
    "from air2waterpy.air2water import air2water"
   ]
  },
  {
   "cell_type": "code",
   "execution_count": 3,
   "id": "e13b597e-e469-463b-b3b3-ee5875a83638",
   "metadata": {
    "tags": []
   },
   "outputs": [],
   "source": [
    "model = air2water(version = \"8p\")"
   ]
  },
  {
   "cell_type": "code",
   "execution_count": 4,
   "id": "3e1ed06f-87f1-4757-8118-94403daf9df0",
   "metadata": {
    "tags": []
   },
   "outputs": [
    {
     "data": {
      "text/plain": [
       "array([(1.71593446, 0.42669781, 0.25543303, 17.4732433, 0.31238681, 0.12572006, 87.15387752, 0.4155382)],\n",
       "      dtype=[('a1', '<f8'), ('a2', '<f8'), ('a3', '<f8'), ('a4', '<f8'), ('a5', '<f8'), ('a6', '<f8'), ('a7', '<f8'), ('a8', '<f8')])"
      ]
     },
     "execution_count": 4,
     "metadata": {},
     "output_type": "execute_result"
    }
   ],
   "source": [
    "model.params"
   ]
  },
  {
   "cell_type": "code",
   "execution_count": null,
   "id": "b925e828-f623-4af6-86b6-f855349530d1",
   "metadata": {
    "tags": []
   },
   "outputs": [],
   "source": []
  },
  {
   "cell_type": "code",
   "execution_count": 6,
   "id": "f2f3a97a-3c31-4c8d-81da-240a9344df5d",
   "metadata": {
    "tags": []
   },
   "outputs": [],
   "source": [
    "# test api of update parameter boundary based on the depth\n",
    "model.update_param_bnds(mean_depth_range=(1,10))"
   ]
  },
  {
   "cell_type": "code",
   "execution_count": 5,
   "id": "b1ed8b30-9d1a-4894-aaa8-2303b326fba7",
   "metadata": {
    "tags": []
   },
   "outputs": [
    {
     "data": {
      "text/plain": [
       "array([(0.000284, 0.006668, 0.006719, 2.888324, 0.017322, 0.212055, 148.709752, 0.499891)],\n",
       "      dtype=[('a1', '<f8'), ('a2', '<f8'), ('a3', '<f8'), ('a4', '<f8'), ('a5', '<f8'), ('a6', '<f8'), ('a7', '<f8'), ('a8', '<f8')])"
      ]
     },
     "execution_count": 5,
     "metadata": {},
     "output_type": "execute_result"
    }
   ],
   "source": [
    "params = {\"a1\": 0.000284,\n",
    "           \"a2\": 0.006668,\n",
    "           \"a3\": 0.006719,  \n",
    "            \"a4\": 2.888324,  \n",
    "            \"a5\": 0.017322,  \n",
    "            \"a6\": 0.212055,\n",
    "            \"a7\": 148.709752,   \n",
    "            \"a8\": 0.499891}\n",
    "model.load_params(params)\n",
    "model.params"
   ]
  },
  {
   "cell_type": "markdown",
   "id": "b7c4e4cf-f6f1-4a65-ac28-c66c7a07a92d",
   "metadata": {},
   "source": [
    "# Load data"
   ]
  },
  {
   "cell_type": "code",
   "execution_count": 7,
   "id": "a0196972-2247-466f-b3d1-70bc20a17e36",
   "metadata": {
    "tags": []
   },
   "outputs": [
    {
     "data": {
      "text/html": [
       "<div>\n",
       "<style scoped>\n",
       "    .dataframe tbody tr th:only-of-type {\n",
       "        vertical-align: middle;\n",
       "    }\n",
       "\n",
       "    .dataframe tbody tr th {\n",
       "        vertical-align: top;\n",
       "    }\n",
       "\n",
       "    .dataframe thead th {\n",
       "        text-align: right;\n",
       "    }\n",
       "</style>\n",
       "<table border=\"1\" class=\"dataframe\">\n",
       "  <thead>\n",
       "    <tr style=\"text-align: right;\">\n",
       "      <th></th>\n",
       "      <th>ta</th>\n",
       "      <th>tw</th>\n",
       "      <th>doy</th>\n",
       "      <th>tdoy</th>\n",
       "      <th>t_ty</th>\n",
       "    </tr>\n",
       "  </thead>\n",
       "  <tbody>\n",
       "    <tr>\n",
       "      <th>1994-01-01</th>\n",
       "      <td>-5.612</td>\n",
       "      <td>NaN</td>\n",
       "      <td>1</td>\n",
       "      <td>365</td>\n",
       "      <td>0.002740</td>\n",
       "    </tr>\n",
       "    <tr>\n",
       "      <th>1994-01-02</th>\n",
       "      <td>-12.487</td>\n",
       "      <td>NaN</td>\n",
       "      <td>2</td>\n",
       "      <td>365</td>\n",
       "      <td>0.005479</td>\n",
       "    </tr>\n",
       "    <tr>\n",
       "      <th>1994-01-03</th>\n",
       "      <td>-9.492</td>\n",
       "      <td>NaN</td>\n",
       "      <td>3</td>\n",
       "      <td>365</td>\n",
       "      <td>0.008219</td>\n",
       "    </tr>\n",
       "    <tr>\n",
       "      <th>1994-01-04</th>\n",
       "      <td>-7.104</td>\n",
       "      <td>NaN</td>\n",
       "      <td>4</td>\n",
       "      <td>365</td>\n",
       "      <td>0.010959</td>\n",
       "    </tr>\n",
       "    <tr>\n",
       "      <th>1994-01-05</th>\n",
       "      <td>-14.696</td>\n",
       "      <td>NaN</td>\n",
       "      <td>5</td>\n",
       "      <td>365</td>\n",
       "      <td>0.013699</td>\n",
       "    </tr>\n",
       "    <tr>\n",
       "      <th>...</th>\n",
       "      <td>...</td>\n",
       "      <td>...</td>\n",
       "      <td>...</td>\n",
       "      <td>...</td>\n",
       "      <td>...</td>\n",
       "    </tr>\n",
       "    <tr>\n",
       "      <th>2011-12-27</th>\n",
       "      <td>0.167</td>\n",
       "      <td>3.87</td>\n",
       "      <td>361</td>\n",
       "      <td>365</td>\n",
       "      <td>0.989041</td>\n",
       "    </tr>\n",
       "    <tr>\n",
       "      <th>2011-12-28</th>\n",
       "      <td>-9.733</td>\n",
       "      <td>3.83</td>\n",
       "      <td>362</td>\n",
       "      <td>365</td>\n",
       "      <td>0.991781</td>\n",
       "    </tr>\n",
       "    <tr>\n",
       "      <th>2011-12-29</th>\n",
       "      <td>-2.471</td>\n",
       "      <td>3.81</td>\n",
       "      <td>363</td>\n",
       "      <td>365</td>\n",
       "      <td>0.994521</td>\n",
       "    </tr>\n",
       "    <tr>\n",
       "      <th>2011-12-30</th>\n",
       "      <td>-0.071</td>\n",
       "      <td>3.79</td>\n",
       "      <td>364</td>\n",
       "      <td>365</td>\n",
       "      <td>0.997260</td>\n",
       "    </tr>\n",
       "    <tr>\n",
       "      <th>2011-12-31</th>\n",
       "      <td>1.008</td>\n",
       "      <td>3.77</td>\n",
       "      <td>365</td>\n",
       "      <td>365</td>\n",
       "      <td>1.000000</td>\n",
       "    </tr>\n",
       "  </tbody>\n",
       "</table>\n",
       "<p>6574 rows × 5 columns</p>\n",
       "</div>"
      ],
      "text/plain": [
       "                ta    tw  doy  tdoy      t_ty\n",
       "1994-01-01  -5.612   NaN    1   365  0.002740\n",
       "1994-01-02 -12.487   NaN    2   365  0.005479\n",
       "1994-01-03  -9.492   NaN    3   365  0.008219\n",
       "1994-01-04  -7.104   NaN    4   365  0.010959\n",
       "1994-01-05 -14.696   NaN    5   365  0.013699\n",
       "...            ...   ...  ...   ...       ...\n",
       "2011-12-27   0.167  3.87  361   365  0.989041\n",
       "2011-12-28  -9.733  3.83  362   365  0.991781\n",
       "2011-12-29  -2.471  3.81  363   365  0.994521\n",
       "2011-12-30  -0.071  3.79  364   365  0.997260\n",
       "2011-12-31   1.008  3.77  365   365  1.000000\n",
       "\n",
       "[6574 rows x 5 columns]"
      ]
     },
     "execution_count": 7,
     "metadata": {},
     "output_type": "execute_result"
    }
   ],
   "source": [
    "df = pd.read_csv(\"data/superior.csv\", index_col=0, parse_dates=True)\n",
    "df"
   ]
  },
  {
   "cell_type": "code",
   "execution_count": 8,
   "id": "3dabf9ed-5f51-4aae-9e85-e92e4a60a215",
   "metadata": {
    "tags": []
   },
   "outputs": [],
   "source": [
    "cal_period = pd.date_range(\"1995-01-01\", \"2004-01-01\")\n",
    "val_period = pd.date_range(\"2005-01-01\", \"2011-12-31\")\n",
    "\n",
    "cal_df = df.loc[cal_period]\n",
    "val_df = df.loc[val_period]"
   ]
  },
  {
   "cell_type": "code",
   "execution_count": 12,
   "id": "f2b9019a-3f45-47b8-a919-1edee749445c",
   "metadata": {
    "tags": []
   },
   "outputs": [],
   "source": [
    "cal_tw_sim = model.simulate(cal_ta, cal_period)"
   ]
  }
 ],
 "metadata": {
  "kernelspec": {
   "display_name": "Python [conda env:laketemp]",
   "language": "python",
   "name": "conda-env-laketemp-py"
  },
  "language_info": {
   "codemirror_mode": {
    "name": "ipython",
    "version": 3
   },
   "file_extension": ".py",
   "mimetype": "text/x-python",
   "name": "python",
   "nbconvert_exporter": "python",
   "pygments_lexer": "ipython3",
   "version": "3.10.13"
  }
 },
 "nbformat": 4,
 "nbformat_minor": 5
}
