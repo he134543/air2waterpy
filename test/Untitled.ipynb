{
 "cells": [
  {
   "cell_type": "code",
   "execution_count": 1,
   "id": "389e263b-3174-4f69-9e71-946bccd5e8a4",
   "metadata": {
    "tags": []
   },
   "outputs": [],
   "source": [
    "import numpy as np\n",
    "import pandas as pd\n",
    "import os\n",
    "import matplotlib.pyplot as plt\n",
    "os.chdir(\"../../air2waterpy/\")"
   ]
  },
  {
   "cell_type": "code",
   "execution_count": 2,
   "id": "8c86aad3-0ad6-4b1d-bb08-190a8b5bec39",
   "metadata": {
    "tags": []
   },
   "outputs": [],
   "source": [
    "from air2waterpy.air2water import air2water"
   ]
  },
  {
   "cell_type": "code",
   "execution_count": 3,
   "id": "e13b597e-e469-463b-b3b3-ee5875a83638",
   "metadata": {
    "tags": []
   },
   "outputs": [],
   "source": [
    "model = air2water(version = \"8p\")"
   ]
  },
  {
   "cell_type": "code",
   "execution_count": 4,
   "id": "3e1ed06f-87f1-4757-8118-94403daf9df0",
   "metadata": {
    "tags": []
   },
   "outputs": [
    {
     "data": {
      "text/plain": [
       "array([(0.35805639, 0.20427708, 0.20212541, 21.64673292, 0.92871043, 0.61340094, 95.85341249, 0.30559987)],\n",
       "      dtype=[('a1', '<f8'), ('a2', '<f8'), ('a3', '<f8'), ('a4', '<f8'), ('a5', '<f8'), ('a6', '<f8'), ('a7', '<f8'), ('a8', '<f8')])"
      ]
     },
     "execution_count": 4,
     "metadata": {},
     "output_type": "execute_result"
    }
   ],
   "source": [
    "model.params"
   ]
  },
  {
   "cell_type": "code",
   "execution_count": 5,
   "id": "f2f3a97a-3c31-4c8d-81da-240a9344df5d",
   "metadata": {
    "tags": []
   },
   "outputs": [],
   "source": [
    "# test api of update parameter boundary based on the depth\n",
    "model.update_param_bnds(mean_depth_range=(1,10))"
   ]
  },
  {
   "cell_type": "code",
   "execution_count": 6,
   "id": "b1ed8b30-9d1a-4894-aaa8-2303b326fba7",
   "metadata": {
    "tags": []
   },
   "outputs": [
    {
     "data": {
      "text/plain": [
       "array([(0.000284, 0.006668, 0.006719, 2.888324, 0.017322, 0.212055, 148.709752, 0.499891)],\n",
       "      dtype=[('a1', '<f8'), ('a2', '<f8'), ('a3', '<f8'), ('a4', '<f8'), ('a5', '<f8'), ('a6', '<f8'), ('a7', '<f8'), ('a8', '<f8')])"
      ]
     },
     "execution_count": 6,
     "metadata": {},
     "output_type": "execute_result"
    }
   ],
   "source": [
    "params = {\"a1\": 0.000284,\n",
    "           \"a2\": 0.006668,\n",
    "           \"a3\": 0.006719,  \n",
    "            \"a4\": 2.888324,  \n",
    "            \"a5\": 0.017322,  \n",
    "            \"a6\": 0.212055,\n",
    "            \"a7\": 148.709752,   \n",
    "            \"a8\": 0.499891}\n",
    "model.load_params(params)\n",
    "model.params"
   ]
  },
  {
   "cell_type": "markdown",
   "id": "b7c4e4cf-f6f1-4a65-ac28-c66c7a07a92d",
   "metadata": {},
   "source": [
    "# Load data"
   ]
  },
  {
   "cell_type": "code",
   "execution_count": 7,
   "id": "a0196972-2247-466f-b3d1-70bc20a17e36",
   "metadata": {
    "tags": []
   },
   "outputs": [
    {
     "data": {
      "text/html": [
       "<div>\n",
       "<style scoped>\n",
       "    .dataframe tbody tr th:only-of-type {\n",
       "        vertical-align: middle;\n",
       "    }\n",
       "\n",
       "    .dataframe tbody tr th {\n",
       "        vertical-align: top;\n",
       "    }\n",
       "\n",
       "    .dataframe thead th {\n",
       "        text-align: right;\n",
       "    }\n",
       "</style>\n",
       "<table border=\"1\" class=\"dataframe\">\n",
       "  <thead>\n",
       "    <tr style=\"text-align: right;\">\n",
       "      <th></th>\n",
       "      <th>ta</th>\n",
       "      <th>tw</th>\n",
       "    </tr>\n",
       "  </thead>\n",
       "  <tbody>\n",
       "    <tr>\n",
       "      <th>1994-01-01</th>\n",
       "      <td>-5.612</td>\n",
       "      <td>NaN</td>\n",
       "    </tr>\n",
       "    <tr>\n",
       "      <th>1994-01-02</th>\n",
       "      <td>-12.487</td>\n",
       "      <td>NaN</td>\n",
       "    </tr>\n",
       "    <tr>\n",
       "      <th>1994-01-03</th>\n",
       "      <td>-9.492</td>\n",
       "      <td>NaN</td>\n",
       "    </tr>\n",
       "    <tr>\n",
       "      <th>1994-01-04</th>\n",
       "      <td>-7.104</td>\n",
       "      <td>NaN</td>\n",
       "    </tr>\n",
       "    <tr>\n",
       "      <th>1994-01-05</th>\n",
       "      <td>-14.696</td>\n",
       "      <td>NaN</td>\n",
       "    </tr>\n",
       "    <tr>\n",
       "      <th>...</th>\n",
       "      <td>...</td>\n",
       "      <td>...</td>\n",
       "    </tr>\n",
       "    <tr>\n",
       "      <th>2011-12-27</th>\n",
       "      <td>0.167</td>\n",
       "      <td>3.87</td>\n",
       "    </tr>\n",
       "    <tr>\n",
       "      <th>2011-12-28</th>\n",
       "      <td>-9.733</td>\n",
       "      <td>3.83</td>\n",
       "    </tr>\n",
       "    <tr>\n",
       "      <th>2011-12-29</th>\n",
       "      <td>-2.471</td>\n",
       "      <td>3.81</td>\n",
       "    </tr>\n",
       "    <tr>\n",
       "      <th>2011-12-30</th>\n",
       "      <td>-0.071</td>\n",
       "      <td>3.79</td>\n",
       "    </tr>\n",
       "    <tr>\n",
       "      <th>2011-12-31</th>\n",
       "      <td>1.008</td>\n",
       "      <td>3.77</td>\n",
       "    </tr>\n",
       "  </tbody>\n",
       "</table>\n",
       "<p>6574 rows × 2 columns</p>\n",
       "</div>"
      ],
      "text/plain": [
       "                ta    tw\n",
       "1994-01-01  -5.612   NaN\n",
       "1994-01-02 -12.487   NaN\n",
       "1994-01-03  -9.492   NaN\n",
       "1994-01-04  -7.104   NaN\n",
       "1994-01-05 -14.696   NaN\n",
       "...            ...   ...\n",
       "2011-12-27   0.167  3.87\n",
       "2011-12-28  -9.733  3.83\n",
       "2011-12-29  -2.471  3.81\n",
       "2011-12-30  -0.071  3.79\n",
       "2011-12-31   1.008  3.77\n",
       "\n",
       "[6574 rows x 2 columns]"
      ]
     },
     "execution_count": 7,
     "metadata": {},
     "output_type": "execute_result"
    }
   ],
   "source": [
    "df = pd.read_csv(\"data/superior.csv\", index_col=0, parse_dates=True)\n",
    "df"
   ]
  },
  {
   "cell_type": "code",
   "execution_count": 8,
   "id": "3dabf9ed-5f51-4aae-9e85-e92e4a60a215",
   "metadata": {
    "tags": []
   },
   "outputs": [],
   "source": [
    "cal_period = pd.date_range(\"1995-01-01\", \"2004-01-01\")\n",
    "val_period = pd.date_range(\"2005-01-01\", \"2011-12-31\")\n",
    "\n",
    "cal_df = df.loc[cal_period]\n",
    "val_df = df.loc[val_period]"
   ]
  },
  {
   "cell_type": "code",
   "execution_count": 9,
   "id": "f2b9019a-3f45-47b8-a919-1edee749445c",
   "metadata": {
    "tags": []
   },
   "outputs": [],
   "source": [
    "cal_tw_sim = model.simulate(cal_df.ta, cal_period)"
   ]
  },
  {
   "cell_type": "code",
   "execution_count": 10,
   "id": "8a7fc699-a07b-420c-acac-e5fb9a2e241d",
   "metadata": {
    "tags": []
   },
   "outputs": [
    {
     "data": {
      "text/plain": [
       "<Axes: >"
      ]
     },
     "execution_count": 10,
     "metadata": {},
     "output_type": "execute_result"
    },
    {
     "data": {
      "image/png": "[encoded data removed]",
      "text/plain": [
       "<Figure size 640x480 with 1 Axes>"
      ]
     },
     "metadata": {},
     "output_type": "display_data"
    }
   ],
   "source": [
    "cal_tw_sim.plot()"
   ]
  },
  {
   "cell_type": "markdown",
   "id": "ec25e2fb-9e9e-4749-a1f0-d487dc252902",
   "metadata": {},
   "source": [
    "# Test calibration"
   ]
  },
  {
   "cell_type": "code",
   "execution_count": 11,
   "id": "f7d998d4-7bbc-4c3b-aa0f-75ec78aed307",
   "metadata": {
    "tags": []
   },
   "outputs": [
    {
     "name": "stderr",
     "output_type": "stream",
     "text": [
      "2024-11-11 12:55:08,835 - pyswarms.single.global_best - INFO - Optimize for 500 iters with {'c1': 0.5, 'c2': 0.3, 'w': 0.9}\n",
      "pyswarms.single.global_best: 100%|███████████████████████████████████████████████████████████████████████████████████████|500/500, best_cost=3.96\n",
      "2024-11-11 12:58:03,188 - pyswarms.single.global_best - INFO - Optimization finished | best cost: 3.959450816648465, best pos: [7.91600621e-01 2.25590145e-01 4.12477859e-01 5.24198994e+01\n",
      " 1.83633155e+00 7.76644191e-01 3.37371890e+01 2.11081992e-03]\n"
     ]
    }
   ],
   "source": [
    "results = model.pso_fit(cal_df.tw.to_numpy(), cal_df.ta, cal_period, n_cpus=2)"
   ]
  },
  {
   "cell_type": "code",
   "execution_count": null,
   "id": "c6e10a1d-940a-48c6-a61f-f76ae1a41020",
   "metadata": {},
   "outputs": [],
   "source": []
  },
  {
   "cell_type": "code",
   "execution_count": null,
   "id": "2cc7f98b-d764-4891-a99b-ccaf0e15a5f5",
   "metadata": {},
   "outputs": [],
   "source": []
  }
 ],
 "metadata": {
  "kernelspec": {
   "display_name": "Python [conda env:laketemp]",
   "language": "python",
   "name": "conda-env-laketemp-py"
  },
  "language_info": {
   "codemirror_mode": {
    "name": "ipython",
    "version": 3
   },
   "file_extension": ".py",
   "mimetype": "text/x-python",
   "name": "python",
   "nbconvert_exporter": "python",
   "pygments_lexer": "ipython3",
   "version": "3.10.13"
  }
 },
 "nbformat": 4,
 "nbformat_minor": 5
}
