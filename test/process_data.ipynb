{
 "cells": [
  {
   "cell_type": "code",
   "execution_count": 1,
   "id": "f01786f0-014b-47fa-850d-ae0f37608728",
   "metadata": {
    "tags": []
   },
   "outputs": [],
   "source": [
    "import numpy as np\n",
    "import pandas as pd\n",
    "import matplotlib.pyplot as plt\n",
    "import seaborn as sns"
   ]
  },
  {
   "cell_type": "code",
   "execution_count": 2,
   "id": "6b1ac580-5743-49be-9e6a-0c1d8be2ba63",
   "metadata": {
    "tags": []
   },
   "outputs": [],
   "source": [
    "df_cc = pd.read_csv(\"stndrck_sat_cc.txt\", delimiter=\"\\t\", header = None)\n",
    "df_cc.columns = [\"year\", \"month\", \"day\", \"ta\", \"tw\"]\n",
    "df_cv = pd.read_csv(\"stndrck_sat_cv.txt\", delimiter=\"\\t\", header = None)\n",
    "df_cv.columns = [\"year\", \"month\", \"day\", \"ta\", \"tw\"]"
   ]
  },
  {
   "cell_type": "code",
   "execution_count": 3,
   "id": "ee3423ce-ad14-44da-b2d8-84d25d18694a",
   "metadata": {
    "tags": []
   },
   "outputs": [],
   "source": [
    "df_cc.index = pd.to_datetime(df_cc.loc[:, [\"year\", \"month\", \"day\"]])\n",
    "df_cv.index = pd.to_datetime(df_cv.loc[:, [\"year\", \"month\", \"day\"]])"
   ]
  },
  {
   "cell_type": "code",
   "execution_count": 4,
   "id": "2eda2eb9-8635-4c9b-9c65-d55cd825e2fb",
   "metadata": {
    "tags": []
   },
   "outputs": [],
   "source": [
    "df = pd.concat([df_cc, df_cv], axis = 0)"
   ]
  },
  {
   "cell_type": "code",
   "execution_count": 5,
   "id": "e2416292-73b7-4d6c-8969-5860fbf4e922",
   "metadata": {
    "tags": []
   },
   "outputs": [],
   "source": [
    "df = df.replace(-999.0, np.NaN).asfreq(\"D\")"
   ]
  },
  {
   "cell_type": "code",
   "execution_count": 7,
   "id": "01436f60-1cbb-4076-b926-843a6bd1693a",
   "metadata": {
    "tags": []
   },
   "outputs": [
    {
     "data": {
      "text/html": [
       "<div>\n",
       "<style scoped>\n",
       "    .dataframe tbody tr th:only-of-type {\n",
       "        vertical-align: middle;\n",
       "    }\n",
       "\n",
       "    .dataframe tbody tr th {\n",
       "        vertical-align: top;\n",
       "    }\n",
       "\n",
       "    .dataframe thead th {\n",
       "        text-align: right;\n",
       "    }\n",
       "</style>\n",
       "<table border=\"1\" class=\"dataframe\">\n",
       "  <thead>\n",
       "    <tr style=\"text-align: right;\">\n",
       "      <th></th>\n",
       "      <th>ta</th>\n",
       "      <th>tw</th>\n",
       "    </tr>\n",
       "  </thead>\n",
       "  <tbody>\n",
       "    <tr>\n",
       "      <th>1994-01-01</th>\n",
       "      <td>-5.612</td>\n",
       "      <td>NaN</td>\n",
       "    </tr>\n",
       "    <tr>\n",
       "      <th>1994-01-02</th>\n",
       "      <td>-12.487</td>\n",
       "      <td>NaN</td>\n",
       "    </tr>\n",
       "    <tr>\n",
       "      <th>1994-01-03</th>\n",
       "      <td>-9.492</td>\n",
       "      <td>NaN</td>\n",
       "    </tr>\n",
       "    <tr>\n",
       "      <th>1994-01-04</th>\n",
       "      <td>-7.104</td>\n",
       "      <td>NaN</td>\n",
       "    </tr>\n",
       "    <tr>\n",
       "      <th>1994-01-05</th>\n",
       "      <td>-14.696</td>\n",
       "      <td>NaN</td>\n",
       "    </tr>\n",
       "    <tr>\n",
       "      <th>...</th>\n",
       "      <td>...</td>\n",
       "      <td>...</td>\n",
       "    </tr>\n",
       "    <tr>\n",
       "      <th>2011-12-27</th>\n",
       "      <td>0.167</td>\n",
       "      <td>3.87</td>\n",
       "    </tr>\n",
       "    <tr>\n",
       "      <th>2011-12-28</th>\n",
       "      <td>-9.733</td>\n",
       "      <td>3.83</td>\n",
       "    </tr>\n",
       "    <tr>\n",
       "      <th>2011-12-29</th>\n",
       "      <td>-2.471</td>\n",
       "      <td>3.81</td>\n",
       "    </tr>\n",
       "    <tr>\n",
       "      <th>2011-12-30</th>\n",
       "      <td>-0.071</td>\n",
       "      <td>3.79</td>\n",
       "    </tr>\n",
       "    <tr>\n",
       "      <th>2011-12-31</th>\n",
       "      <td>1.008</td>\n",
       "      <td>3.77</td>\n",
       "    </tr>\n",
       "  </tbody>\n",
       "</table>\n",
       "<p>6574 rows × 2 columns</p>\n",
       "</div>"
      ],
      "text/plain": [
       "                ta    tw\n",
       "1994-01-01  -5.612   NaN\n",
       "1994-01-02 -12.487   NaN\n",
       "1994-01-03  -9.492   NaN\n",
       "1994-01-04  -7.104   NaN\n",
       "1994-01-05 -14.696   NaN\n",
       "...            ...   ...\n",
       "2011-12-27   0.167  3.87\n",
       "2011-12-28  -9.733  3.83\n",
       "2011-12-29  -2.471  3.81\n",
       "2011-12-30  -0.071  3.79\n",
       "2011-12-31   1.008  3.77\n",
       "\n",
       "[6574 rows x 2 columns]"
      ]
     },
     "execution_count": 7,
     "metadata": {},
     "output_type": "execute_result"
    }
   ],
   "source": [
    "df = df.loc[:, [\"ta\", \"tw\"]]\n",
    "df"
   ]
  },
  {
   "cell_type": "code",
   "execution_count": null,
   "id": "61aa0b0e-df1c-43ad-80c3-6355a0fcd5db",
   "metadata": {},
   "outputs": [],
   "source": []
  },
  {
   "cell_type": "code",
   "execution_count": 8,
   "id": "5455b806-0536-443c-b8de-0a9265b6aa21",
   "metadata": {
    "tags": []
   },
   "outputs": [],
   "source": [
    "df.to_csv(\"../data/superior.csv\")"
   ]
  }
 ],
 "metadata": {
  "kernelspec": {
   "display_name": "Python [conda env:wdmodel]",
   "language": "python",
   "name": "conda-env-wdmodel-py"
  },
  "language_info": {
   "codemirror_mode": {
    "name": "ipython",
    "version": 3
   },
   "file_extension": ".py",
   "mimetype": "text/x-python",
   "name": "python",
   "nbconvert_exporter": "python",
   "pygments_lexer": "ipython3",
   "version": "3.11.3"
  }
 },
 "nbformat": 4,
 "nbformat_minor": 5
}
